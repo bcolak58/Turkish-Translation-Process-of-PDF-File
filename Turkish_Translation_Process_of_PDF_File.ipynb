{
  "nbformat": 4,
  "nbformat_minor": 0,
  "metadata": {
    "colab": {
      "provenance": []
    },
    "kernelspec": {
      "name": "python3",
      "display_name": "Python 3"
    },
    "language_info": {
      "name": "python"
    }
  },
  "cells": [
    {
      "cell_type": "markdown",
      "source": [
        "**Turkish Translation Process of PDF File**"
      ],
      "metadata": {
        "id": "2UmzleaZNAdB"
      }
    },
    {
      "cell_type": "code",
      "source": [
        "#!pip install PyPDF2\n",
        "#!pip install translate\n",
        "#!pip install PdfReader\n",
        "#!pip install mtranslate"
      ],
      "metadata": {
        "id": "onR9kN9oUvTb"
      },
      "execution_count": 7,
      "outputs": []
    },
    {
      "cell_type": "code",
      "source": [
        "from mtranslate import translate\n",
        "from PyPDF2 import PdfReader"
      ],
      "metadata": {
        "id": "92F1GqsAU-Vz"
      },
      "execution_count": 3,
      "outputs": []
    },
    {
      "cell_type": "code",
      "source": [
        "# PDF dosyasını okuyun\n",
        "def read_pdf(file_path):\n",
        "    with open(file_path, 'rb') as file:\n",
        "        reader = PdfReader(file)\n",
        "        text = ''\n",
        "        for page in reader.pages:\n",
        "            text += page.extract_text()\n",
        "        return text\n",
        "\n",
        "# Metni çevir\n",
        "def translate_text(text, target_language='tr'):\n",
        "    translated_text = translate(text, target_language)\n",
        "    return translated_text\n",
        "\n",
        "# PDF dosyasını çevir\n",
        "def translate_pdf(file_path):\n",
        "    text = read_pdf(file_path)\n",
        "    translated_text = translate_text(text)\n",
        "    return translated_text"
      ],
      "metadata": {
        "id": "mKIu5R4CXxW0"
      },
      "execution_count": 4,
      "outputs": []
    },
    {
      "cell_type": "code",
      "source": [
        "# Örnek kullanım\n",
        "pdf_file_path = '/content/drive/MyDrive/Colab Notebooks/DataDosyalari/t1.pdf'\n",
        "translated_pdf_text = translate_pdf(pdf_file_path)"
      ],
      "metadata": {
        "id": "kXd1qDdhXyy8"
      },
      "execution_count": 5,
      "outputs": []
    },
    {
      "cell_type": "code",
      "source": [
        "print(translated_pdf_text)"
      ],
      "metadata": {
        "colab": {
          "base_uri": "https://localhost:8080/"
        },
        "id": "rXkydF6jWzQU",
        "outputId": "b509131a-dfcb-4918-93d5-a450bfcc8042"
      },
      "execution_count": 6,
      "outputs": [
        {
          "output_type": "stream",
          "name": "stdout",
          "text": [
            "Uygulama Varsayılan Kimlik Bilgileri nasıl çalışır?\n",
            "yer işareti_border\n",
            "Bu sayfada Uygulama Varsayılan Kimlik Bilgilerinin (ADC) kimlik bilgilerini aradığı konumlar açıklanmaktadır. ADC çalışmalarının size nasıl yardımcı olabileceğini anlamak\n",
            "ADC'nin hangi kimlik bilgilerini kullandığını ve bunları nasıl bulduğunu anlayın.\n",
            "Uygulama Varsayılan Kimlik Bilgileri (ADC), Google kimlik doğrulama kitaplıkları tarafından kimlik bilgilerini otomatik olarak bulmak için kullanılan bir stratejidir.\n",
            "uygulama ortamı. Kimlik doğrulama kitaplıkları, bu kimlik bilgilerinin Bulut İstemci Kitaplıkları ve Google API İstemci Kitaplıkları tarafından kullanılabilir olmasını sağlar.\n",
            "ADC'yi kullandığınızda, uygulamanızın kimlik doğrulama şeklini değiştirmeden kodunuz geliştirme veya üretim ortamında çalışabilir.\n",
            "Google Cloud hizmetleri ve API'leri.\n",
            "ADC'ye kimlik bilgilerinin nasıl sağlanacağı hakkında bilgi için bkz. Uygulama Varsayılan Kimlik Bilgilerini Ayarlama.\n",
            "Arama sırası\n",
            "ADC aşağıdaki konumlarda kimlik bilgilerini arar:\n",
            "1. GOOGLE_APPLICATION_CREDENTIALS ortam değişkeni\n",
            "2. Google Cloud CLI kullanılarak oluşturulan kullanıcı kimlik bilgileri\n",
            "3. Meta veri sunucusu tarafından döndürülen ekli hizmet hesabı\n",
            "ADC'nin kimlik bilgilerini kontrol ettiği konumların sırası, her konumun göreceli değeriyle ilişkili değildir. En iyiyi anlama konusunda yardım için\n",
            "ADC'ye kimlik bilgileri sağlamanın yolları için bkz. Uygulama Varsayılan Kimlik Bilgilerini Ayarlama.\n",
            "GOOGLE_APPLICATION_CREDENTIALS ortam değişkeni\n",
            "Kimlik bilgisi JSON dosyasının konumunu sağlamak için GOOGLE_APPLICATION_CREDENTIALS ortam değişkenini kullanabilirsiniz. Bu JSON dosyası şunları yapabilir:\n",
            "aşağıdaki dosya türlerinden biri olabilir:\n",
            " İş yükü kimlik birleşimi için bir kimlik bilgisi yapılandırma dosyası\n",
            "İş yükü kimlik federasyonu, Google Cloud kaynaklarına erişmek için harici bir kimlik sağlayıcı kullanmanıza olanak tanır. Daha fazla bilgi için,\n",
            "Kimlik ve Erişim Yönetimi (IAM) belgelerindeki İstemci kitaplıklarını, gcloud CLI'yi veya Terraform'u kullanarak kimlik doğrulama konusuna bakın.\n",
            " Bir hizmet hesabı anahtarı\n",
            "Hizmet hesabı anahtarları güvenlik riski oluşturur ve önerilmez. Diğer kimlik bilgisi dosyası türlerinin aksine, güvenliği ihlal edilmiş hizmet hesabı anahtarları\n",
            "kötü bir aktör tarafından herhangi bir ek bilgi gerekmeden kullanılabilir. Daha fazla bilgi için bkz. Hizmet hesabını kullanmaya ve yönetmeye yönelik en iyi uygulamalar\n",
            "anahtarlar.\n"
          ]
        }
      ]
    }
  ]
}